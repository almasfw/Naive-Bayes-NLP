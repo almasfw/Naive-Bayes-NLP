{
 "cells": [
  {
   "cell_type": "markdown",
   "metadata": {},
   "source": [
    "### Tugas Kapita Selekta Sistem Cerdas: Natural Language Processing\n",
    "# Klasifikasi Teks dengan Naive Bayes Classification\n",
    "Almas Fauzia Wibawa<br>\n",
    "17/409427/PA/17734"
   ]
  },
  {
   "cell_type": "markdown",
   "metadata": {},
   "source": [
    "## 1. Inisiasi Fungsi\n",
    "Sebelum melakukan import data dan eksekusi program klasifikasi, tentunya, dibangun terlebih dahulu fungsi-fungsi yang dibutuhkan dalam membuat model klasifikasi dengan Naive Bayes Classification.\n",
    "### a) Objek Model\n",
    "Pertama-tama, dibuat sebuah objek model yang akan menyimpan 2 parameter Naive Bayes Classifier hasil estimasi dari proses training. Hal ini dilakukan juga agar hasil estimasi dari proses training dapat lebih mudah digunakan ketika akan memprediksi label di proses testing."
   ]
  },
  {
   "cell_type": "code",
   "execution_count": 1,
   "metadata": {},
   "outputs": [],
   "source": [
    "class Model:\n",
    "    def __init__(self, prob_c0, prob_c1, prob_w_c0, prob_w_c1):\n",
    "        self.prob_c0 = prob_c0\n",
    "        self.prob_c1 = prob_c1\n",
    "        self.prob_w_c0 = prob_w_c0\n",
    "        self.prob_w_c1 = prob_w_c1"
   ]
  },
  {
   "cell_type": "markdown",
   "metadata": {},
   "source": [
    "### b) Fungsi Pembuatan Vocabulary\n",
    "Hal yang pertama kali dilakukan dalam proses training pada metode klasifikasi Multinomial Naive Bayes adalah membangun vocabulary. Fungsi pembuatan vocabulary ini akan menerima argumen berupa kumpulan dokumen yang dijadikan training data dan banyak kata yang ingin dibuat di dalam vocabulary. Akan diambil n kata dengan frekuensi terbesar di training data untuk dimasukkan ke vocabulary."
   ]
  },
  {
   "cell_type": "code",
   "execution_count": 2,
   "metadata": {},
   "outputs": [],
   "source": [
    "# membuat vocabulary\n",
    "\n",
    "def make_vocab(x_train, n):\n",
    "    # x_train merupakan list dokumen yang dijadikan training data\n",
    "    # n merupakan banyak kata yang ingin ada di dalam vocabulary\n",
    "    \n",
    "    # menghitung frekuensi setiap kata\n",
    "    from nltk.tokenize import word_tokenize\n",
    "    \n",
    "    titles = x_train\n",
    "    freq = {}\n",
    "    for t in titles:\n",
    "        tokens = word_tokenize(t)\n",
    "        for w in tokens:\n",
    "            if w in freq:\n",
    "                freq[w] += 1\n",
    "            else:\n",
    "                freq[w] = 1\n",
    "    \n",
    "    # mengurutkan kata berdasarkan frekuensinya\n",
    "    sorted_freq = {key: values for key, values in sorted(freq.items(), key=lambda e: e[1], reverse=True)}\n",
    "    \n",
    "    # mengambil n kata dengan frekuensi terbesar untuk dijadikan vocabulary\n",
    "    vocab = list(sorted_freq)[:1000]\n",
    "    \n",
    "    return vocab"
   ]
  },
  {
   "cell_type": "markdown",
   "metadata": {},
   "source": [
    "### c) Fungsi Estimasi Parameter\n",
    "Untuk membangun model Multinomial Naive Bayes, perlu dilakukan estimasi terhadap probabilitas prior dari setiap kelas dan probabilitas kondisional dari setiap kata terhadap setiap kelas. Estimasi probabilitas prior setiap kelas dapat ditemukan dengan membagi banyak dokumen yang termasuk dalam kelas tersebut dengan total dokumen yang ada di data training. Sedangkan, estimasi probabilitas kondisional setiap kata terhadap setiap kelas dapat ditemukan dengan membagi jumlah kemunculan kata tersebut di setiap kelas dengan jumlah kemunculan kata yang ada di kelas tersebut yang termasuk dalam vocabulary. Oleh karena itu, beberapa langkah yang perlu dilakukan adalah sebagai berikut:\n",
    "1. Banyak dokumen yang masuk ke setiap kelas di data training\n",
    "2. Banyak dokumen pada data training\n",
    "3. Banyak kemunculan setiap kata di setiap kelas pada data training\n",
    "4. Banyak kata yang muncul di setiap kelas yang termasuk dalam vocabulary\n",
    "\n",
    "Karena dibutuhkan langkah yang cukup panjang untuk mengetahui beberapa hal tersebut (kecuali banyak dokumen pada data training), akan dibuat fungsi juga untuk melakukan penghitungannya.\n",
    "\n",
    "#### Fungsi untuk menghitung banyak dokumen yang masuk ke setiap kelas di data training\n",
    "Fungsi ini akan menerima masukan berupa kumpulan label yang dimiliki oleh training data."
   ]
  },
  {
   "cell_type": "code",
   "execution_count": 3,
   "metadata": {},
   "outputs": [],
   "source": [
    "# menghitung banyak dokumen yang masuk ke setiap kelas di data training\n",
    "\n",
    "def nDocsEachClass(y_train):\n",
    "    \n",
    "    n_doc0 = list(y_train).count(0)\n",
    "    n_doc1 = list(y_train).count(1)\n",
    "    \n",
    "    return n_doc0, n_doc1"
   ]
  },
  {
   "cell_type": "markdown",
   "metadata": {},
   "source": [
    "#### Fungsi untuk menghitung kemunculan setiap kata di setiap kelas pada data training\n",
    "Fungsi ini memiliki masukan berupa dokumen dan label dari training data."
   ]
  },
  {
   "cell_type": "code",
   "execution_count": 4,
   "metadata": {},
   "outputs": [],
   "source": [
    "# menghitung kemunculan setiap kata di setiap kelas pada data training\n",
    "\n",
    "def nWordsEachClass(x_train, y_train):\n",
    "    \n",
    "    from nltk.tokenize import word_tokenize\n",
    "    \n",
    "    freq_0 = {}\n",
    "    freq_1 = {}\n",
    "\n",
    "    for i in range(len(x_train)):\n",
    "        tokens = word_tokenize(x_train[i])\n",
    "\n",
    "        # jika judul ke-i termasuk dalam kelas 0\n",
    "        if y_train[i] == 0:\n",
    "            for w in tokens:\n",
    "                if w in freq_0:\n",
    "                    freq_0[w] += 1\n",
    "                else:\n",
    "                    freq_0[w] = 1\n",
    "\n",
    "        # jika judul ke-i termasuk dalam kelas 1\n",
    "        else:\n",
    "            for w in tokens:\n",
    "                if w in freq_1:\n",
    "                    freq_1[w] += 1\n",
    "                else:\n",
    "                    freq_1[w] = 1\n",
    "    \n",
    "    return freq_0, freq_1"
   ]
  },
  {
   "cell_type": "markdown",
   "metadata": {},
   "source": [
    "#### Fungsi untuk menghitung banyak kata yang muncul di setiap kelas yang termasuk dalam vocabulary\n",
    "Fungsi ini memiliki masukan berupa dictionary yang menyimpan banyak kemunculan setiap kata di kelas0, dictionary yang menyimpan banyak kemunculan setiap kata di kelas1, dan vocabulary."
   ]
  },
  {
   "cell_type": "code",
   "execution_count": 5,
   "metadata": {},
   "outputs": [],
   "source": [
    "# menghitung banyak kata yang muncul di setiap kelas yang termasuk dalam vocabulary\n",
    "\n",
    "def nWordsEachClass_isInVocab(freq_0, freq_1, vocab):\n",
    "    n_vocab0 = 0\n",
    "    n_vocab1 = 0\n",
    "\n",
    "    for w in vocab:\n",
    "        # jika kata w muncul di kelas 0\n",
    "        if w in freq_0:\n",
    "            n_vocab0 += freq_0[w]\n",
    "\n",
    "        # jika kata w muncul di kelas 1\n",
    "        if w in freq_1:\n",
    "            n_vocab1 += freq_1[w]\n",
    "    \n",
    "    return n_vocab0, n_vocab1"
   ]
  },
  {
   "cell_type": "markdown",
   "metadata": {},
   "source": [
    "#### Melakukan estimasi\n",
    "Tiga fungsi tadi kemudian dapat dipanggil untuk digunakan dalam melakukan estimasi. Terdapat 2 jenis fungsi estimasi, tanpa smoothing dan dengan smoothing.\n",
    "\n",
    "Seperti yang sudah dituliskan sebelumnya, cara mengestimasi probabilitas prior dari setiap kelas adalah dengan membagi jumlah kemunculan kata tersebut di setiap kelas dengan jumlah kemunculan kata yang ada di kelas tersebut yang termasuk dalam vocabulary. Akan tetapi, jika cara tersebut dieksekusi, kata yang sama sekali tidak muncul di suatu kelas di data training akan memiliki probabilitas kemunculan di kelas tersebut dengan nilai 0. Hal ini tidak tepat untuk diaplikasikan di kasus nyata. Solusi dari permasalahan tersebut adalah dengan melakukan smoothing. Salah satu metode smoothing adalah Add-1 Smoothing, yaitu menambah setiap nilai frekuensi kata dengan angka 1. Dengan begitu, tidak akan ada kata yang memiliki probabilitas kemunculan 0 di kelas mana pun.\n",
    "\n",
    "Akan dilihat perbandingan hasil antara estimasi tanpa smoothing dan dengan smoothing. Oleh karena itu, kedua jenis estimasi tersebut akan diimplementasikan fungsinya. Keduanya akan menerima masukan berupa dokumen dan label dari training data dan vocabulary yang telah dibangun diproses sebelumnya.\n",
    "\n",
    "1. Estimasi tanpa smoothing"
   ]
  },
  {
   "cell_type": "code",
   "execution_count": 6,
   "metadata": {},
   "outputs": [],
   "source": [
    "# estimasi tanpa smoothing\n",
    "\n",
    "def estimateWithoutSmoothing(x_train, y_train, vocab):\n",
    "    \n",
    "    # menghitung banyak dokumen yang masuk ke setiap kelas di data training\n",
    "    n_doc0, n_doc1 = nDocsEachClass(y_train)\n",
    "    \n",
    "    # menghitung banyak dokumen pada data training\n",
    "    n_doc = len(x_train)\n",
    "    \n",
    "    # menghitung kemunculan setiap kata di setiap kelas pada data training\n",
    "    freq_0, freq_1 = nWordsEachClass(x_train, y_train)\n",
    "        \n",
    "    # menghitung banyak kata yang muncul di setiap kelas yang termasuk dalam vocabulary\n",
    "    n_vocab0, n_vocab1 = nWordsEachClass_isInVocab(freq_0, freq_1, vocab)\n",
    "    \n",
    "    # menghitung estimasi\n",
    "    # probabilitas prior kelas 0\n",
    "    prob_c0 = n_doc0/n_doc\n",
    "\n",
    "    # probabilitas prior kelas 1\n",
    "    prob_c1 = n_doc1/n_doc\n",
    "    \n",
    "    # probabilitas kondisional\n",
    "    prob_w_c0 = {}\n",
    "    prob_w_c1 = {}\n",
    "\n",
    "    for w in vocab:\n",
    "        # jika kata w muncul di kelas 0\n",
    "        if w in freq_0:\n",
    "            prob_w_c0[w] = freq_0[w] / n_vocab0\n",
    "        else:\n",
    "            prob_w_c0[w] =  0\n",
    "\n",
    "        # jika kata w muncul di kelas 1\n",
    "        if w in freq_1:\n",
    "            prob_w_c1[w] = freq_1[w] / n_vocab1\n",
    "        else:\n",
    "            prob_w_c1[w] = 0\n",
    "    \n",
    "    return prob_c0, prob_c1, prob_w_c0, prob_w_c1"
   ]
  },
  {
   "cell_type": "markdown",
   "metadata": {},
   "source": [
    "2. Estimasi dengan smoothing<br>\n",
    "Metode smoothing yang digunakan disini adalah Add-1 Smoothing."
   ]
  },
  {
   "cell_type": "code",
   "execution_count": 7,
   "metadata": {},
   "outputs": [],
   "source": [
    "def estimateWithSmoothing(x_train, y_train, vocab):\n",
    "    \n",
    "    # menghitung banyak dokumen yang masuk ke setiap kelas di data training\n",
    "    n_doc0, n_doc1 = nDocsEachClass(y_train)\n",
    "    \n",
    "    # menghitung banyak dokumen pada data training\n",
    "    n_doc = len(x_train)\n",
    "    \n",
    "    # menghitung kemunculan setiap kata di setiap kelas pada data training\n",
    "    freq_0, freq_1 = nWordsEachClass(x_train, y_train)\n",
    "        \n",
    "    # menghitung banyak kata yang muncul di setiap kelas yang termasuk dalam vocabulary\n",
    "    n_vocab0, n_vocab1 = nWordsEachClass_isInVocab(freq_0, freq_1, vocab)\n",
    "    \n",
    "    # menghitung estimasi\n",
    "    # probabilitas prior kelas 0\n",
    "    prob_c0 = n_doc0/n_doc\n",
    "\n",
    "    # probabilitas prior kelas 1\n",
    "    prob_c1 = n_doc1/n_doc\n",
    "    \n",
    "    # probabilitas kondisional\n",
    "    prob_w_c0 = {}\n",
    "    prob_w_c1 = {}\n",
    "\n",
    "    for w in vocab:\n",
    "        # jika kata w muncul di kelas 0\n",
    "        if w in freq_0:\n",
    "            prob_w_c0[w] = (freq_0[w]+1)/(n_vocab0+len(vocab))\n",
    "        else:\n",
    "            prob_w_c0[w] = 1/(n_vocab0+len(vocab))\n",
    "\n",
    "        # jika kata w muncul di kelas 1\n",
    "        if w in freq_1:\n",
    "            prob_w_c1[w] = (freq_1[w]+1)/(n_vocab1+len(vocab))\n",
    "        else:\n",
    "            prob_w_c1[w] = 1/(n_vocab1+len(vocab))\n",
    "    \n",
    "    return prob_c0, prob_c1, prob_w_c0, prob_w_c1"
   ]
  },
  {
   "cell_type": "markdown",
   "metadata": {},
   "source": [
    "### d) Fungsi Training\n",
    "Setelah diimplementasi fungsi untuk membuat vocabulary dan melakukan estimasi, dibangun fungsi training. Fungsi training akan menerima masukan berupa dokumen dan label dari training data, banyak vocabulary yang ingin dibangun, dan boolean apakah akan digunakan smoothing atau tidak. Fungsi ini akan memiliki luaran berupa model klasifikasi."
   ]
  },
  {
   "cell_type": "code",
   "execution_count": 8,
   "metadata": {},
   "outputs": [],
   "source": [
    "def training(x_train, y_train, nVocab, boolSmoothing):\n",
    "    \n",
    "    import pandas as pd\n",
    "    \n",
    "    # membuat vocab\n",
    "    vocab = make_vocab(x_train, nVocab)\n",
    "    \n",
    "    # melakukan estimasi\n",
    "    if boolSmoothing:\n",
    "        prob_c0, prob_c1, prob_w_c0, prob_w_c1 = estimateWithSmoothing(x_train, y_train, vocab)\n",
    "    else:\n",
    "        prob_c0, prob_c1, prob_w_c0, prob_w_c1 = estimateWithoutSmoothing(x_train, y_train, vocab)\n",
    "    \n",
    "    model = Model(prob_c0, prob_c1, prob_w_c0, prob_w_c1)\n",
    "    \n",
    "    return model"
   ]
  },
  {
   "cell_type": "markdown",
   "metadata": {},
   "source": [
    "### e) Fungsi Testing\n",
    "Fungsi ini menerima masukan berupa testing data dan model yang telah dihasilkan dari fungsi training. Pemilihan kelas akan dilakukan dengan menggunakan Most Valuable Class. Yang dilakukan di fungsi ini adalah menghitung probabilitas setiap data merupakan anggota dari setiap kelas, dipilih kelas yang probabilitasnya paling tinggi, kemudian kelas tersebut lah yang menjadi label data tersebut. Probabilitas setiap data merupakan anggota dari setiap kelas dihitung dengan mengalikan probabilitas prior kelas tersebut dengan probabilitas kondisional setiap kata yang ada pada data terhadap kelas tersebut."
   ]
  },
  {
   "cell_type": "code",
   "execution_count": 9,
   "metadata": {},
   "outputs": [],
   "source": [
    "def testing(x_test, model):\n",
    "    \n",
    "    from nltk.tokenize import word_tokenize\n",
    "    \n",
    "    y = []\n",
    "\n",
    "    for t in x_test:\n",
    "        tokens = word_tokenize(t)\n",
    "        # probabilitas prior\n",
    "        p0 = model.prob_c0\n",
    "        p1 = model.prob_c1\n",
    "\n",
    "        # menghitung probabilitas title t masuk ke kelas 0 dan kelas 1\n",
    "        for w in tokens:\n",
    "            if w in model.prob_w_c0:\n",
    "                p0 = p0 * model.prob_w_c0[w]\n",
    "\n",
    "            if w in model.prob_w_c1:\n",
    "                p1 = p1 * model.prob_w_c1[w]\n",
    "\n",
    "        # penentuan most likely class\n",
    "        if p0 > p1:\n",
    "            y.append(0)\n",
    "        else:\n",
    "            y.append(1)\n",
    "\n",
    "    return y"
   ]
  },
  {
   "cell_type": "markdown",
   "metadata": {},
   "source": [
    "### f) Fungsi Evaluasi\n",
    "Pada fungsi evaluasi, akan dilakukan pembentukan tabel kontingensi, perhitungan 4 metrik evaluasi (akurasi, presisi, recall, dan F1-measure), dan perhitungan rata-rata secara mikro dan makro. Beberapa langkah ini akan dipisahkan terlebih dahulu implementasinya di fungsi yang berbeda.<br>\n",
    "#### Fungsi untuk membuat tabel kontingensi\n",
    "Fungsi ini menerima masukan berupa label asli, label hasil prediksi, dan boolean apakah akan dilakukan pencetakan tabelnya. Pada fungsi ini, akan dihitung banyak label yang termasuk dalam True Positif, False Positive, False Negative, dan True Negative. Keempat angka tersebut nanti akan dijadikan luaran dari fungsi ini. Masing-masing kelas akan dihitung secara terpisah sehingga akan dihasilkan 1 tabel kontingensi untuk masing-masing kelas."
   ]
  },
  {
   "cell_type": "code",
   "execution_count": 10,
   "metadata": {},
   "outputs": [],
   "source": [
    "# membuat 2 tabel kontingensi untuk 2 kelas\n",
    "\n",
    "def conf_matrix(y_real, y_predict, printMatrix):\n",
    "    \n",
    "    import matplotlib.pyplot as plt\n",
    "    import seaborn as sns\n",
    "    \n",
    "    tp0 = 0\n",
    "    fp0 = 0\n",
    "    tn0 = 0\n",
    "    fn0 = 0\n",
    "    tp1 = 0\n",
    "    fp1 = 0\n",
    "    tn1 = 0\n",
    "    fn1 = 0\n",
    "\n",
    "    for i in range(len(y_real)):\n",
    "        # true positive\n",
    "        if (y_real[i] == 1) & (y_predict[i] == 1):\n",
    "            tn0 += 1\n",
    "            tp1 += 1\n",
    "\n",
    "        # false positive\n",
    "        elif (y_real[i] == 0) & (y_predict[i] == 1):\n",
    "            fn0 += 1\n",
    "            fp1 += 1\n",
    "\n",
    "        # true negative\n",
    "        elif (y_real[i] == 0) & (y_predict[i] == 0):\n",
    "            tp0 += 1\n",
    "            tn1 += 1\n",
    "\n",
    "        # false negative\n",
    "        elif (y_real[i] == 1) & (y_predict[i] == 0):\n",
    "            fp0 += 1\n",
    "            fn1 += 1\n",
    "            \n",
    "    if printMatrix:\n",
    "        # kontingensi tabel untuk kelas 0\n",
    "        plt.figure(figsize=(4,4))\n",
    "        sns.heatmap([[tn0,fp0],[fn0,tp0]], annot=True, fmt='d', xticklabels=['false', 'true'],\n",
    "                    yticklabels=['false', 'true'], cmap=plt.cm.Blues, cbar=False)\n",
    "        plt.title(\"Class 0's Confusion Matrix\")\n",
    "        plt.xlabel('Predicted Label')\n",
    "        plt.ylabel('True Label')\n",
    "        plt.show()\n",
    "\n",
    "        # kontingensi tabel untuk kelas 1\n",
    "        plt.figure(figsize=(4,4))\n",
    "        sns.heatmap([[tn1,fp1],[fn1,tp1]], annot=True, fmt='d', xticklabels=['false', 'true'],\n",
    "                    yticklabels=['false', 'true'], cmap=plt.cm.Blues, cbar=False)\n",
    "        plt.title(\"Class 1's Confusion Matrix\")\n",
    "        plt.xlabel('Predicted Label')\n",
    "        plt.ylabel('True Label')\n",
    "        plt.show()\n",
    "    \n",
    "    return (tp0, fp0, tn0, fn0), (tp1, fp1, tn1, fn1)"
   ]
  },
  {
   "cell_type": "markdown",
   "metadata": {},
   "source": [
    "#### Fungsi untuk menghitung 4 metrik evaluasi di setiap kelas\n",
    "Fungsi ini menerima input berupa tupel tabel kontingensi yang dihasilkan di fungsi tabel kontingensi. Tupel tersebut berisi banyak label yang termasuk dalam True Positif, False Positive, False Negative, dan True Negative. Dari keempat angka tersebut, dilakukan perhitungan metriks akurasi, presisi, recall, dan F1-measure untuk setiap kelas, kemudian semua nilai tersebut dirata-rata secara mikro dan makro. Di akhir, semua nilai yang dihasilkan akan ditampilkan di satu tabel agar lebih mudah untuk dibandingkan."
   ]
  },
  {
   "cell_type": "code",
   "execution_count": 11,
   "metadata": {},
   "outputs": [],
   "source": [
    "# menghitung 4 metrik evaluasi untuk setiap kelas\n",
    "\n",
    "def calc_metric(confMatrix0, confMatrix1):\n",
    "    \n",
    "    import pandas as pd\n",
    "    tp0, fp0, tn0, fn0 = confMatrix0\n",
    "    tp1, fp1, tn1, fn1 = confMatrix1\n",
    "    \n",
    "    # akurasi\n",
    "    accuracy0 = (tp0+tn0)/(tp0+fp0+fn0+tn0)\n",
    "    accuracy1 = (tp1+tn1)/(tp1+fp1+fn1+tn1)\n",
    "\n",
    "    # presisi\n",
    "    precision0 = tp0/(tp0+fp0)\n",
    "    precision1 = tp1/(tp1+fp0)\n",
    "    \n",
    "    # recall\n",
    "    recall0 = tp0/(tp0+fn0)\n",
    "    recall1 = tp1/(tp1+fn1)\n",
    "\n",
    "    # f1-measure\n",
    "    f1_0 = (2*precision0*recall0)/(precision0+recall0)\n",
    "    f1_1 = (2*precision1*recall1)/(precision1+recall1)\n",
    "    \n",
    "    # micro-averaging\n",
    "    tp_micro = tp0 + tp1\n",
    "    fp_micro = fp0 + fp1\n",
    "    tn_micro = tn0 + tn1\n",
    "    fn_micro = fn0 + fn1\n",
    "    \n",
    "    accuracy_micro = (tp_micro+tn_micro)/(tp_micro+fp_micro+fn_micro+tn_micro)\n",
    "    precision_micro = (tp_micro)/(tp_micro+fp_micro)\n",
    "    recall_micro = (tp_micro)/(tp_micro+fn_micro)\n",
    "    f1_micro = (2 * precision_micro * recall_micro)/(precision_micro + recall_micro)\n",
    "    \n",
    "    # macro-averaging\n",
    "    accuracy_macro = (accuracy0+accuracy1)/2\n",
    "    precision_macro = (precision0+precision1)/2\n",
    "    recall_macro = (recall0+recall1)/2\n",
    "    f1_macro = (f1_0+f1_1)/2\n",
    "\n",
    "    eval_df = pd.DataFrame({'metriks': ['akurasi', 'presisi', 'recall', 'F1-measure'],\n",
    "                            'kelas0': [accuracy0, precision0, recall0, f1_0],\n",
    "                            'kelas1': [accuracy1, precision1, recall1, f1_1],\n",
    "                            'micro': [accuracy_micro, precision_micro, recall_micro, f1_micro],\n",
    "                            'macro': [accuracy_macro, precision_macro, recall_macro, f1_macro]})\n",
    "    print(eval_df)"
   ]
  },
  {
   "cell_type": "markdown",
   "metadata": {},
   "source": [
    "#### Fungsi Evaluasi\n",
    "Setelah didefinisikan fungsi pembuatan tabel kontingensi dan perhitungan 4 metrik evaluasi, kedua fungsi tersebut disatukan di dalam fungsi evaluasi yang menerima masukan berupa label asli dan label hasil prediksi pada proses testing."
   ]
  },
  {
   "cell_type": "code",
   "execution_count": 12,
   "metadata": {},
   "outputs": [],
   "source": [
    "def evaluation(y_real, y_predict, printMatrix):\n",
    "    \n",
    "    # membuat 2 kontingensi tabel\n",
    "    confMatrix0, confMatrix1 = conf_matrix(y_real, y_predict, printMatrix)\n",
    "    \n",
    "    # menghitung 4 metrik evaluasi untuk setiap kelas\n",
    "    calc_metric(confMatrix0, confMatrix1)"
   ]
  },
  {
   "cell_type": "markdown",
   "metadata": {},
   "source": [
    "## 2. Import Data\n",
    "Setelah dilakukan implementasi fungsi, sudah dapat dilakukan pembuatan model. Walaupun begitu, perlu terlebih dahulu dilakukan import data training dan testing.\n",
    "### a) Import Training Data"
   ]
  },
  {
   "cell_type": "code",
   "execution_count": 13,
   "metadata": {},
   "outputs": [
    {
     "data": {
      "text/html": [
       "<div>\n",
       "<style scoped>\n",
       "    .dataframe tbody tr th:only-of-type {\n",
       "        vertical-align: middle;\n",
       "    }\n",
       "\n",
       "    .dataframe tbody tr th {\n",
       "        vertical-align: top;\n",
       "    }\n",
       "\n",
       "    .dataframe thead th {\n",
       "        text-align: right;\n",
       "    }\n",
       "</style>\n",
       "<table border=\"1\" class=\"dataframe\">\n",
       "  <thead>\n",
       "    <tr style=\"text-align: right;\">\n",
       "      <th></th>\n",
       "      <th>title</th>\n",
       "      <th>label</th>\n",
       "      <th>label_score</th>\n",
       "    </tr>\n",
       "  </thead>\n",
       "  <tbody>\n",
       "    <tr>\n",
       "      <th>0</th>\n",
       "      <td>Ini Penyebab Jamaah Tertipu Penggunaan Visa No...</td>\n",
       "      <td>clickbait</td>\n",
       "      <td>1</td>\n",
       "    </tr>\n",
       "    <tr>\n",
       "      <th>1</th>\n",
       "      <td>Balita di Bogor Tewas dengan Luka Lebam, Ibu T...</td>\n",
       "      <td>non-clickbait</td>\n",
       "      <td>0</td>\n",
       "    </tr>\n",
       "    <tr>\n",
       "      <th>2</th>\n",
       "      <td>Demi Keadilan, Pria Ini Habiskan Rp526 Juta La...</td>\n",
       "      <td>clickbait</td>\n",
       "      <td>1</td>\n",
       "    </tr>\n",
       "    <tr>\n",
       "      <th>3</th>\n",
       "      <td>Claudia Emanuela Santoso Harumkan Indonesia di...</td>\n",
       "      <td>non-clickbait</td>\n",
       "      <td>0</td>\n",
       "    </tr>\n",
       "    <tr>\n",
       "      <th>4</th>\n",
       "      <td>Kalah Saing di Monza, Bottas Akui Ketangguhan ...</td>\n",
       "      <td>non-clickbait</td>\n",
       "      <td>0</td>\n",
       "    </tr>\n",
       "  </tbody>\n",
       "</table>\n",
       "</div>"
      ],
      "text/plain": [
       "                                               title          label  \\\n",
       "0  Ini Penyebab Jamaah Tertipu Penggunaan Visa No...      clickbait   \n",
       "1  Balita di Bogor Tewas dengan Luka Lebam, Ibu T...  non-clickbait   \n",
       "2  Demi Keadilan, Pria Ini Habiskan Rp526 Juta La...      clickbait   \n",
       "3  Claudia Emanuela Santoso Harumkan Indonesia di...  non-clickbait   \n",
       "4  Kalah Saing di Monza, Bottas Akui Ketangguhan ...  non-clickbait   \n",
       "\n",
       "   label_score  \n",
       "0            1  \n",
       "1            0  \n",
       "2            1  \n",
       "3            0  \n",
       "4            0  "
      ]
     },
     "execution_count": 13,
     "metadata": {},
     "output_type": "execute_result"
    }
   ],
   "source": [
    "# import data training\n",
    "import pandas as pd\n",
    "\n",
    "df_train = pd.read_csv('annotated_okezone.csv')\n",
    "df_train.head()"
   ]
  },
  {
   "cell_type": "code",
   "execution_count": 14,
   "metadata": {},
   "outputs": [],
   "source": [
    "# pisah fitur dengan label\n",
    "x_train = df_train['title']\n",
    "y_train = df_train['label_score']"
   ]
  },
  {
   "cell_type": "markdown",
   "metadata": {},
   "source": [
    "### b) Import Testing Data"
   ]
  },
  {
   "cell_type": "code",
   "execution_count": 15,
   "metadata": {},
   "outputs": [
    {
     "data": {
      "text/html": [
       "<div>\n",
       "<style scoped>\n",
       "    .dataframe tbody tr th:only-of-type {\n",
       "        vertical-align: middle;\n",
       "    }\n",
       "\n",
       "    .dataframe tbody tr th {\n",
       "        vertical-align: top;\n",
       "    }\n",
       "\n",
       "    .dataframe thead th {\n",
       "        text-align: right;\n",
       "    }\n",
       "</style>\n",
       "<table border=\"1\" class=\"dataframe\">\n",
       "  <thead>\n",
       "    <tr style=\"text-align: right;\">\n",
       "      <th></th>\n",
       "      <th>title</th>\n",
       "      <th>label</th>\n",
       "      <th>label_score</th>\n",
       "    </tr>\n",
       "  </thead>\n",
       "  <tbody>\n",
       "    <tr>\n",
       "      <th>0</th>\n",
       "      <td>Lewat Seni Anak-Anak akan Tampil Percaya Diri ...</td>\n",
       "      <td>non-clickbait</td>\n",
       "      <td>0</td>\n",
       "    </tr>\n",
       "    <tr>\n",
       "      <th>1</th>\n",
       "      <td>5 Manfaat Pilates untuk Ibu Hamil, Apa Saja?</td>\n",
       "      <td>clickbait</td>\n",
       "      <td>1</td>\n",
       "    </tr>\n",
       "    <tr>\n",
       "      <th>2</th>\n",
       "      <td>Pentingnya Sarapan dengan Makanan Padat untuk ...</td>\n",
       "      <td>clickbait</td>\n",
       "      <td>1</td>\n",
       "    </tr>\n",
       "    <tr>\n",
       "      <th>3</th>\n",
       "      <td>Selalu Ingin Tahu, 5 Zodiak Ini Tidak Bisa Men...</td>\n",
       "      <td>clickbait</td>\n",
       "      <td>1</td>\n",
       "    </tr>\n",
       "    <tr>\n",
       "      <th>4</th>\n",
       "      <td>3 Jenis Diet untuk Organ Intim Lebih Sehat</td>\n",
       "      <td>clickbait</td>\n",
       "      <td>1</td>\n",
       "    </tr>\n",
       "  </tbody>\n",
       "</table>\n",
       "</div>"
      ],
      "text/plain": [
       "                                               title          label  \\\n",
       "0  Lewat Seni Anak-Anak akan Tampil Percaya Diri ...  non-clickbait   \n",
       "1       5 Manfaat Pilates untuk Ibu Hamil, Apa Saja?      clickbait   \n",
       "2  Pentingnya Sarapan dengan Makanan Padat untuk ...      clickbait   \n",
       "3  Selalu Ingin Tahu, 5 Zodiak Ini Tidak Bisa Men...      clickbait   \n",
       "4         3 Jenis Diet untuk Organ Intim Lebih Sehat      clickbait   \n",
       "\n",
       "   label_score  \n",
       "0            0  \n",
       "1            1  \n",
       "2            1  \n",
       "3            1  \n",
       "4            1  "
      ]
     },
     "execution_count": 15,
     "metadata": {},
     "output_type": "execute_result"
    }
   ],
   "source": [
    "# import data test\n",
    "df_test = pd.read_csv('annotated_fimela.csv')\n",
    "df_test.head()"
   ]
  },
  {
   "cell_type": "code",
   "execution_count": 16,
   "metadata": {},
   "outputs": [],
   "source": [
    "# pisah fitur dengan label\n",
    "x_test = df_test['title']\n",
    "y_test = df_test['label_score']"
   ]
  },
  {
   "cell_type": "markdown",
   "metadata": {},
   "source": [
    "## 3. Training/Pembuatan Model\n",
    "Setelah dilakukan import data, dapat dilakukan pembuatan model. Pembuatan model dapat dilakukan dengan memanggil fungsi training. Walaupun begitu, jangan lupa untuk terlebih dahulu melakukan inisiasi banyaknya vocabulary yang ingin dibangun dan apakah estimasi yang ingin dilakukan akan menggunakan teknik smoothing atau tidak.\n",
    "\n",
    "Sesuai soal, akan dilakukan pembangunan vocabulary sebanyak 1000 kata. Karena akan dilakukan perbandingan antara estimasi tanpa smoothing dan dengan smoothing, akan dibuat 2 model sekaligus."
   ]
  },
  {
   "cell_type": "code",
   "execution_count": 17,
   "metadata": {},
   "outputs": [],
   "source": [
    "# inisiasi banyak kata dalam vocab\n",
    "\n",
    "nVocab = 1000"
   ]
  },
  {
   "cell_type": "markdown",
   "metadata": {},
   "source": [
    "#### Model dari estimasi tanpa smoothing"
   ]
  },
  {
   "cell_type": "code",
   "execution_count": 18,
   "metadata": {},
   "outputs": [],
   "source": [
    "# pembuatan model dengan estimasi tanpa smoothing\n",
    "\n",
    "model_tanpaSmoothing = training(x_train, y_train, nVocab, False)"
   ]
  },
  {
   "cell_type": "markdown",
   "metadata": {},
   "source": [
    "#### Model dari estimasi dengan smoothing"
   ]
  },
  {
   "cell_type": "code",
   "execution_count": 19,
   "metadata": {},
   "outputs": [],
   "source": [
    "# pembuatan model dengan estimasi dengan smoothing\n",
    "\n",
    "model_denganSmoothing = training(x_train, y_train, nVocab, True)"
   ]
  },
  {
   "cell_type": "markdown",
   "metadata": {},
   "source": [
    "## 4. Testing/Prediksi\n",
    "Setelah dilakukan pembuatan model, model dapat digunakan untuk melakukan prediksi. Untuk melakukan prediksi, dapat digunakan fungsi testing yang telah dibangun sebelumnya.\n",
    "#### Testing untuk model tanpa smoothing"
   ]
  },
  {
   "cell_type": "code",
   "execution_count": 20,
   "metadata": {},
   "outputs": [],
   "source": [
    "# prediksi dengan model dari training tanpa smoothing\n",
    "\n",
    "y_predict_tanpaSmoothing = testing(x_test, model_tanpaSmoothing)"
   ]
  },
  {
   "cell_type": "markdown",
   "metadata": {},
   "source": [
    "#### Testing untuk model dengan smoothing"
   ]
  },
  {
   "cell_type": "code",
   "execution_count": 21,
   "metadata": {},
   "outputs": [],
   "source": [
    "# prediksi dengan model dari training dengan smoothing\n",
    "\n",
    "y_predict_denganSmoothing = testing(x_test, model_denganSmoothing)"
   ]
  },
  {
   "cell_type": "markdown",
   "metadata": {},
   "source": [
    "## 5. Evaluasi\n",
    "Evaluasi dapat dilakukan dengan langsung memanggil fungsi evaluasi yang telah dibangun sebelumnya. Pada langkah kali ini, akan ditampilkan tabel kontingensinya agar dapat dilihat perbedaan antara tabel kontingensi kelas0 dengan kelas1.\n",
    "#### Evaluasi model tanpa smoothing"
   ]
  },
  {
   "cell_type": "code",
   "execution_count": 22,
   "metadata": {},
   "outputs": [
    {
     "data": {
      "image/png": "[encoded data removed]",
      "text/plain": [
       "<Figure size 288x288 with 1 Axes>"
      ]
     },
     "metadata": {
      "needs_background": "light"
     },
     "output_type": "display_data"
    },
    {
     "data": {
      "image/png": "[encoded data removed]",
      "text/plain": [
       "<Figure size 288x288 with 1 Axes>"
      ]
     },
     "metadata": {
      "needs_background": "light"
     },
     "output_type": "display_data"
    },
    {
     "name": "stdout",
     "output_type": "stream",
     "text": [
      "      metriks    kelas0    kelas1     micro     macro\n",
      "0     akurasi  0.604286  0.604286  0.604286  0.604286\n",
      "1     presisi  0.635514  0.901015  0.604286  0.768265\n",
      "2      recall  0.222222  0.901015  0.604286  0.561619\n",
      "3  F1-measure  0.329298  0.901015  0.604286  0.615157\n"
     ]
    }
   ],
   "source": [
    "# evaluasi model tanpa smoothing\n",
    "evaluation(y_test, y_predict_tanpaSmoothing, True)"
   ]
  },
  {
   "cell_type": "markdown",
   "metadata": {},
   "source": [
    "#### Evaluasi model dengan smoothing"
   ]
  },
  {
   "cell_type": "code",
   "execution_count": 23,
   "metadata": {},
   "outputs": [
    {
     "data": {
      "image/png": "[encoded data removed]",
      "text/plain": [
       "<Figure size 288x288 with 1 Axes>"
      ]
     },
     "metadata": {
      "needs_background": "light"
     },
     "output_type": "display_data"
    },
    {
     "data": {
      "image/png": "[encoded data removed]",
      "text/plain": [
       "<Figure size 288x288 with 1 Axes>"
      ]
     },
     "metadata": {
      "needs_background": "light"
     },
     "output_type": "display_data"
    },
    {
     "name": "stdout",
     "output_type": "stream",
     "text": [
      "      metriks    kelas0    kelas1     micro     macro\n",
      "0     akurasi  0.608571  0.608571  0.608571  0.608571\n",
      "1     presisi  0.648148  0.903553  0.608571  0.775851\n",
      "2      recall  0.228758  0.903553  0.608571  0.566156\n",
      "3  F1-measure  0.338164  0.903553  0.608571  0.620859\n"
     ]
    }
   ],
   "source": [
    "# evaluasi model dengan smoothing\n",
    "evaluation(y_test, y_predict_denganSmoothing, True)"
   ]
  },
  {
   "cell_type": "markdown",
   "metadata": {},
   "source": [
    "## 6. Analisis Hasil\n",
    "### a) Perbandingan Model tanpa Smoothing dan Model dengan Smoothing\n",
    "Jika dilihat metrik yang dihasilkan, angka yang dihasilkan oleh model dengan smoothing lebih tinggi daripada yang dihasilkan oleh model tanpa smoothing walaupun selisihnya tidak banyak. Hal ini menunjukkan bahwa smoothing memang dapat membantu masalah yang muncul seperti yang sebelumnya dijelaskan sebelum dilakukan implementasi fungsi estimasi.\n",
    "\n",
    "Selisih yang tidak banyak ini bisa jadi karena data set yang digunakan tidak begitu membutuhkan smoothing. Di data set yang berbeda, bisa jadi, perbedaan antara model yang menggunakan smoothing dengan yang tidak menggunakan smoothing cukup besar dan signifikan.\n",
    "### b) Perbedaan Rata-rata Mikro dan Makro\n",
    "Secara teori, dan hal ini dapat dilihat di metriks yang dihasilkan, rata-rata mikro cenderung menyimpulkan performa model secara keseluruhan. Dapat dilihat bahwa semua metriks pada rata-rata mikro memiliki nilai yang sama. Artinya, secara keseluruhan, nilai tersebut adalah nilai yang didapatkan model yang digunakan.\n",
    "\n",
    "Sementara itu, rata-rata makro lebih menunjukkan adanya perbedaan di metriks antar kelas. Nilai akurasi mikro dan makro sama besar, berarti akurasi kelas0 dan kelas1 sama. Nilai presisi dan F1-measure makro lebih besar daripada mikro dan nilai recall makro lebih kecil daripada mikro. Perbedaan ini menunjukkan bahwa terdapat perbedaan pula di metriks presisi, recall, dan F1-measure pada kelas0 dan kelas1. Perbedaan ini kemudian perlu dilihat lebih detail lagi di metriks setiap kelasnya untuk menganalisis performa modelnya.\n",
    "### c) Preprocessing\n",
    "Model yang telah terbentuk dibangun dari data yang tidak melalui tahap preprocessing. Di beberapa kasus, preprocessing dapat sangat membantu dalam meningkatkan performa model klasifikasi. Oleh karena itu, akan dicoba beberapa langkah preprocessing agar dapat meningkatkan performa model klasifikasi untuk kasus ini.\n",
    "\n",
    "Untuk data teks, terdapat beberapa langkah yang dapat dilakukan di proses preprocessing, di antaranya:\n",
    "1. Cleansing, membersihkan data dari tanda baca dan angka.\n",
    "2. Casefolding, mengonversi semua huruf menjadi huruf kecil.\n",
    "3. Stemming, mengubah semua kata menjadi kata dasar.\n",
    "4. Stop words removal, menghapus semua stop words.\n",
    "\n",
    "Kali ini, akan coba diterapkan keempat langkah tersebut dan akan dilihat pengaruhnya terhadap performa model. Pembuatan model yang digunakan adalah pembuatan model yang menggunakan smoothing.\n",
    "\n",
    "#### Cleansing: Menghapus Angka"
   ]
  },
  {
   "cell_type": "code",
   "execution_count": 24,
   "metadata": {},
   "outputs": [],
   "source": [
    "# menghapus angka\n",
    "\n",
    "import re \n",
    "\n",
    "x_train_preprocess1 = []\n",
    "x_test_preprocess1 = []\n",
    "\n",
    "for i in range(len(x_train)):\n",
    "    x_train_preprocess1.append(re.sub(r\"\\d+\", \"\", x_train[i]))\n",
    "    \n",
    "for i in range(len(x_test)):\n",
    "    x_test_preprocess1.append(re.sub(r\"\\d+\", \"\", x_test[i]))"
   ]
  },
  {
   "cell_type": "code",
   "execution_count": 25,
   "metadata": {},
   "outputs": [
    {
     "name": "stdout",
     "output_type": "stream",
     "text": [
      "Evaluasi tanpa preprocessing\n",
      "      metriks    kelas0    kelas1     micro     macro\n",
      "0     akurasi  0.608571  0.608571  0.608571  0.608571\n",
      "1     presisi  0.648148  0.903553  0.608571  0.775851\n",
      "2      recall  0.228758  0.903553  0.608571  0.566156\n",
      "3  F1-measure  0.338164  0.903553  0.608571  0.620859\n",
      "\n",
      "Evaluasi dengan preprocessing cleansing angka saja\n",
      "      metriks    kelas0    kelas1  micro     macro\n",
      "0     akurasi  0.620000  0.620000   0.62  0.620000\n",
      "1     presisi  0.663934  0.895939   0.62  0.779937\n",
      "2      recall  0.264706  0.895939   0.62  0.580322\n",
      "3  F1-measure  0.378505  0.895939   0.62  0.637222\n"
     ]
    }
   ],
   "source": [
    "# pembuatan model\n",
    "model_preprocess1 = training(x_train_preprocess1, y_train, 1000, True)\n",
    "\n",
    "# testing\n",
    "y_predict_preprocess1 = testing(x_test_preprocess1, model_preprocess1)\n",
    "\n",
    "# menampilkan evaluasi tanpa preprocessing untuk perbandingan\n",
    "print('Evaluasi tanpa preprocessing')\n",
    "evaluation(y_test, y_predict_denganSmoothing, False)\n",
    "print()\n",
    "\n",
    "# evaluasi dengan preprocessing1\n",
    "print('Evaluasi dengan preprocessing cleansing angka saja')\n",
    "evaluation(y_test, y_predict_preprocess1, False)"
   ]
  },
  {
   "cell_type": "markdown",
   "metadata": {},
   "source": [
    "Ternyata, dengan menghilangkan angka, dapat diperoleh performa model yang lebih baik.\n",
    "\n",
    "#### Cleansing: Menghapus Tanda Baca\n",
    "Pertama-tama, akan dicoba preprocessing dengan menghapus tanda baca saja."
   ]
  },
  {
   "cell_type": "code",
   "execution_count": 26,
   "metadata": {},
   "outputs": [],
   "source": [
    "# menghilangkan tanda baca\n",
    "\n",
    "import string\n",
    "\n",
    "x_train_preprocess2 = []\n",
    "x_test_preprocess2 = []\n",
    "\n",
    "for i in range(len(x_train)):\n",
    "    x_train_preprocess2.append(x_train[i].translate(str.maketrans(\"\",\"\",string.punctuation)))\n",
    "    \n",
    "for i in range(len(x_test)):\n",
    "    x_test_preprocess2.append(x_test[i].translate(str.maketrans(\"\",\"\",string.punctuation)))"
   ]
  },
  {
   "cell_type": "code",
   "execution_count": 27,
   "metadata": {},
   "outputs": [
    {
     "name": "stdout",
     "output_type": "stream",
     "text": [
      "Evaluasi tanpa preprocessing\n",
      "      metriks    kelas0    kelas1     micro     macro\n",
      "0     akurasi  0.608571  0.608571  0.608571  0.608571\n",
      "1     presisi  0.648148  0.903553  0.608571  0.775851\n",
      "2      recall  0.228758  0.903553  0.608571  0.566156\n",
      "3  F1-measure  0.338164  0.903553  0.608571  0.620859\n",
      "\n",
      "Evaluasi dengan preprocessing cleansing tanda baca saja\n",
      "      metriks    kelas0    kelas1     micro     macro\n",
      "0     akurasi  0.631429  0.631429  0.631429  0.631429\n",
      "1     presisi  0.684615  0.895939  0.631429  0.790277\n",
      "2      recall  0.290850  0.895939  0.631429  0.593394\n",
      "3  F1-measure  0.408257  0.895939  0.631429  0.652098\n"
     ]
    }
   ],
   "source": [
    "# pembuatan model\n",
    "model_preprocess2 = training(x_train_preprocess2, y_train, 1000, True)\n",
    "\n",
    "# testing\n",
    "y_predict_preprocess2 = testing(x_test_preprocess2, model_preprocess2)\n",
    "\n",
    "# menampilkan evaluasi tanpa preprocessing untuk perbandingan\n",
    "print('Evaluasi tanpa preprocessing')\n",
    "evaluation(y_test, y_predict_denganSmoothing, False)\n",
    "print()\n",
    "\n",
    "# evaluasi dengan preprocessing2\n",
    "print('Evaluasi dengan preprocessing cleansing tanda baca saja')\n",
    "evaluation(y_test, y_predict_preprocess2, False)"
   ]
  },
  {
   "cell_type": "markdown",
   "metadata": {},
   "source": [
    "Ternyata, menghapus tanda baca membuat model memiliki performa yang lebih baik daripada menghapus angka. Selanjutnya, akan dicoba untuk melakukan penghapusan angka dan tanda baca sekaligus."
   ]
  },
  {
   "cell_type": "code",
   "execution_count": 28,
   "metadata": {},
   "outputs": [],
   "source": [
    "x_train_preprocess3 = []\n",
    "x_test_preprocess3 = []\n",
    "\n",
    "for i in range(len(x_train)):\n",
    "    x_train_preprocess3.append(x_train_preprocess1[i].translate(str.maketrans(\"\",\"\",string.punctuation)))\n",
    "    \n",
    "for i in range(len(x_test)):\n",
    "    x_test_preprocess3.append(x_test_preprocess1[i].translate(str.maketrans(\"\",\"\",string.punctuation)))"
   ]
  },
  {
   "cell_type": "code",
   "execution_count": 29,
   "metadata": {},
   "outputs": [
    {
     "name": "stdout",
     "output_type": "stream",
     "text": [
      "Evaluasi tanpa preprocessing\n",
      "      metriks    kelas0    kelas1     micro     macro\n",
      "0     akurasi  0.608571  0.608571  0.608571  0.608571\n",
      "1     presisi  0.648148  0.903553  0.608571  0.775851\n",
      "2      recall  0.228758  0.903553  0.608571  0.566156\n",
      "3  F1-measure  0.338164  0.903553  0.608571  0.620859\n",
      "\n",
      "Evaluasi dengan preprocessing cleansing angka saja\n",
      "      metriks    kelas0    kelas1  micro     macro\n",
      "0     akurasi  0.620000  0.620000   0.62  0.620000\n",
      "1     presisi  0.663934  0.895939   0.62  0.779937\n",
      "2      recall  0.264706  0.895939   0.62  0.580322\n",
      "3  F1-measure  0.378505  0.895939   0.62  0.637222\n",
      "\n",
      "Evaluasi dengan preprocessing cleansing tanda baca saja\n",
      "      metriks    kelas0    kelas1     micro     macro\n",
      "0     akurasi  0.631429  0.631429  0.631429  0.631429\n",
      "1     presisi  0.684615  0.895939  0.631429  0.790277\n",
      "2      recall  0.290850  0.895939  0.631429  0.593394\n",
      "3  F1-measure  0.408257  0.895939  0.631429  0.652098\n",
      "\n",
      "Evaluasi dengan preprocessing cleansing angka dan tanda baca\n",
      "      metriks    kelas0    kelas1     micro     macro\n",
      "0     akurasi  0.618571  0.618571  0.618571  0.618571\n",
      "1     presisi  0.648855  0.883249  0.618571  0.766052\n",
      "2      recall  0.277778  0.883249  0.618571  0.580513\n",
      "3  F1-measure  0.389016  0.883249  0.618571  0.636132\n"
     ]
    }
   ],
   "source": [
    "# pembuatan model\n",
    "model_preprocess3 = training(x_train_preprocess3, y_train, 1000, True)\n",
    "\n",
    "# testing\n",
    "y_predict_preprocess3 = testing(x_test_preprocess3, model_preprocess3)\n",
    "\n",
    "# menampilkan evaluasi tanpa preprocessing untuk perbandingan\n",
    "print('Evaluasi tanpa preprocessing')\n",
    "evaluation(y_test, y_predict_denganSmoothing, False)\n",
    "print()\n",
    "\n",
    "# menampilkan evaluasi dengan preprocessing1 untuk perbandingan\n",
    "print('Evaluasi dengan preprocessing cleansing angka saja')\n",
    "evaluation(y_test, y_predict_preprocess1, False)\n",
    "print()\n",
    "\n",
    "# menampilkan evaluasi dengan preprocessing2 untuk perbandingan\n",
    "print('Evaluasi dengan preprocessing cleansing tanda baca saja')\n",
    "evaluation(y_test, y_predict_preprocess2, False)\n",
    "print()\n",
    "\n",
    "# evaluasi dengan preprocessing3\n",
    "print('Evaluasi dengan preprocessing cleansing angka dan tanda baca')\n",
    "evaluation(y_test, y_predict_preprocess3, False)"
   ]
  },
  {
   "cell_type": "markdown",
   "metadata": {},
   "source": [
    "Ternyata, menggabungkan keduanya tidak membuat model berperforma lebih baik daripada hanya menghapus tanda bacanya saja.\n",
    "\n",
    "#### Case folding\n",
    "Pertama-tama, akan dicoba preprocessing dengan hanya melakukan case folding."
   ]
  },
  {
   "cell_type": "code",
   "execution_count": 30,
   "metadata": {},
   "outputs": [],
   "source": [
    "# casefolding\n",
    "\n",
    "x_train_preprocess4 = []\n",
    "x_test_preprocess4 = []\n",
    "\n",
    "for i in range(len(x_train)):\n",
    "    x_train_preprocess4.append(x_train[i].lower())\n",
    "    \n",
    "for i in range(len(x_test)):\n",
    "    x_test_preprocess4.append(x_test[i].lower())"
   ]
  },
  {
   "cell_type": "code",
   "execution_count": 31,
   "metadata": {},
   "outputs": [
    {
     "name": "stdout",
     "output_type": "stream",
     "text": [
      "Evaluasi tanpa preprocessing\n",
      "      metriks    kelas0    kelas1     micro     macro\n",
      "0     akurasi  0.608571  0.608571  0.608571  0.608571\n",
      "1     presisi  0.648148  0.903553  0.608571  0.775851\n",
      "2      recall  0.228758  0.903553  0.608571  0.566156\n",
      "3  F1-measure  0.338164  0.903553  0.608571  0.620859\n",
      "\n",
      "Evaluasi dengan preprocessing case folding saja\n",
      "      metriks    kelas0    kelas1     micro     macro\n",
      "0     akurasi  0.607143  0.607143  0.607143  0.607143\n",
      "1     presisi  0.647619  0.906091  0.607143  0.776855\n",
      "2      recall  0.222222  0.906091  0.607143  0.564157\n",
      "3  F1-measure  0.330900  0.906091  0.607143  0.618496\n"
     ]
    }
   ],
   "source": [
    "# pembuatan model\n",
    "model_preprocess4 = training(x_train_preprocess4, y_train, 1000, True)\n",
    "\n",
    "# testing\n",
    "y_predict_preprocess4 = testing(x_test_preprocess4, model_preprocess4)\n",
    "\n",
    "# menampilkan evaluasi tanpa preprocessing untuk perbandingan\n",
    "print('Evaluasi tanpa preprocessing')\n",
    "evaluation(y_test, y_predict_denganSmoothing, False)\n",
    "print()\n",
    "\n",
    "# evaluasi dengan preprocessing4\n",
    "print('Evaluasi dengan preprocessing case folding saja')\n",
    "evaluation(y_test, y_predict_preprocess4, False)"
   ]
  },
  {
   "cell_type": "markdown",
   "metadata": {},
   "source": [
    "Merubah huruf menjadi seluruhnya kecil ternyata tidak berpengaruh baik ke model klasifikasi walaupun hanya sedikit pengaruhnya.\n",
    "\n",
    "#### Stemming\n",
    "Pertama-tama akan dicoba untuk melakukan preprocessing dengan stemming saja."
   ]
  },
  {
   "cell_type": "code",
   "execution_count": 32,
   "metadata": {},
   "outputs": [],
   "source": [
    "# stemming\n",
    "\n",
    "from Sastrawi.Stemmer.StemmerFactory import StemmerFactory\n",
    "factory = StemmerFactory()\n",
    "stemmer = factory.create_stemmer()\n",
    " \n",
    "x_train_preprocess5 = []\n",
    "x_test_preprocess5 = []\n",
    "\n",
    "for i in range(len(x_train)):\n",
    "    x_train_preprocess5.append(stemmer.stem(x_train[i]))\n",
    "    \n",
    "for i in range(len(x_test)):\n",
    "    x_test_preprocess5.append(stemmer.stem(x_test[i]))"
   ]
  },
  {
   "cell_type": "code",
   "execution_count": 33,
   "metadata": {},
   "outputs": [
    {
     "name": "stdout",
     "output_type": "stream",
     "text": [
      "Evaluasi tanpa preprocessing\n",
      "      metriks    kelas0    kelas1     micro     macro\n",
      "0     akurasi  0.608571  0.608571  0.608571  0.608571\n",
      "1     presisi  0.648148  0.903553  0.608571  0.775851\n",
      "2      recall  0.228758  0.903553  0.608571  0.566156\n",
      "3  F1-measure  0.338164  0.903553  0.608571  0.620859\n",
      "\n",
      "Evaluasi dengan preprocessing stemming saja\n",
      "      metriks    kelas0    kelas1     micro     macro\n",
      "0     akurasi  0.612857  0.612857  0.612857  0.612857\n",
      "1     presisi  0.642276  0.888325  0.612857  0.765301\n",
      "2      recall  0.258170  0.888325  0.612857  0.573247\n",
      "3  F1-measure  0.368298  0.888325  0.612857  0.628312\n"
     ]
    }
   ],
   "source": [
    "# pembuatan model\n",
    "model_preprocess5 = training(x_train_preprocess5, y_train, 1000, True)\n",
    "\n",
    "# testing\n",
    "y_predict_preprocess5 = testing(x_test_preprocess5, model_preprocess5)\n",
    "\n",
    "# menampilkan evaluasi tanpa preprocessing untuk perbandingan\n",
    "print('Evaluasi tanpa preprocessing')\n",
    "evaluation(y_test, y_predict_denganSmoothing, False)\n",
    "print()\n",
    "\n",
    "# evaluasi dengan preprocessing5\n",
    "print('Evaluasi dengan preprocessing stemming saja')\n",
    "evaluation(y_test, y_predict_preprocess5, False)"
   ]
  },
  {
   "cell_type": "markdown",
   "metadata": {},
   "source": [
    "Angka-angka metrik setelah dilakukan stemming cenderung meningkat daripada yang tidak menggunakan stemming, namun tidak signifikan. Selanjutnya, akan dicoba untuk mengombinasikan stemming dengan penghapusan tanda baca yang sebelumnya berhasil dibuktikan membawa pengaruh baik ke performa model klasifikasi."
   ]
  },
  {
   "cell_type": "code",
   "execution_count": 34,
   "metadata": {},
   "outputs": [],
   "source": [
    "x_train_preprocess6 = []\n",
    "x_test_preprocess6 = []\n",
    "\n",
    "for i in range(len(x_train)):\n",
    "    x_train_preprocess6.append(stemmer.stem(x_train_preprocess2[i]))\n",
    "    \n",
    "for i in range(len(x_test)):\n",
    "    x_test_preprocess6.append(stemmer.stem(x_test_preprocess2[i]))"
   ]
  },
  {
   "cell_type": "code",
   "execution_count": 35,
   "metadata": {},
   "outputs": [
    {
     "name": "stdout",
     "output_type": "stream",
     "text": [
      "Evaluasi tanpa preprocessing\n",
      "      metriks    kelas0    kelas1     micro     macro\n",
      "0     akurasi  0.608571  0.608571  0.608571  0.608571\n",
      "1     presisi  0.648148  0.903553  0.608571  0.775851\n",
      "2      recall  0.228758  0.903553  0.608571  0.566156\n",
      "3  F1-measure  0.338164  0.903553  0.608571  0.620859\n",
      "\n",
      "Evaluasi dengan preprocessing cleansing tanda baca saja\n",
      "      metriks    kelas0    kelas1     micro     macro\n",
      "0     akurasi  0.631429  0.631429  0.631429  0.631429\n",
      "1     presisi  0.684615  0.895939  0.631429  0.790277\n",
      "2      recall  0.290850  0.895939  0.631429  0.593394\n",
      "3  F1-measure  0.408257  0.895939  0.631429  0.652098\n",
      "\n",
      "Evaluasi dengan preprocessing stemming saja\n",
      "      metriks    kelas0    kelas1     micro     macro\n",
      "0     akurasi  0.612857  0.612857  0.612857  0.612857\n",
      "1     presisi  0.642276  0.888325  0.612857  0.765301\n",
      "2      recall  0.258170  0.888325  0.612857  0.573247\n",
      "3  F1-measure  0.368298  0.888325  0.612857  0.628312\n",
      "\n",
      "Evaluasi dengan preprocessing stemming dan cleansing tanda baca\n",
      "      metriks    kelas0    kelas1  micro     macro\n",
      "0     akurasi  0.620000  0.620000   0.62  0.620000\n",
      "1     presisi  0.663934  0.895939   0.62  0.779937\n",
      "2      recall  0.264706  0.895939   0.62  0.580322\n",
      "3  F1-measure  0.378505  0.895939   0.62  0.637222\n"
     ]
    }
   ],
   "source": [
    "# pembuatan model\n",
    "model_preprocess6 = training(x_train_preprocess6, y_train, 1000, True)\n",
    "\n",
    "# testing\n",
    "y_predict_preprocess6 = testing(x_test_preprocess6, model_preprocess6)\n",
    "\n",
    "# menampilkan evaluasi tanpa preprocessing untuk perbandingan\n",
    "print('Evaluasi tanpa preprocessing')\n",
    "evaluation(y_test, y_predict_denganSmoothing, False)\n",
    "print()\n",
    "\n",
    "# menampilkan evaluasi dengan preprocessing2 untuk perbandingan\n",
    "print('Evaluasi dengan preprocessing cleansing tanda baca saja')\n",
    "evaluation(y_test, y_predict_preprocess2, False)\n",
    "print()\n",
    "\n",
    "# menampilkan evaluasi dengan preprocessing5 untuk perbandingan\n",
    "print('Evaluasi dengan preprocessing stemming saja')\n",
    "evaluation(y_test, y_predict_preprocess5, False)\n",
    "print()\n",
    "\n",
    "# evaluasi dengan preprocessing6\n",
    "print('Evaluasi dengan preprocessing stemming dan cleansing tanda baca')\n",
    "evaluation(y_test, y_predict_preprocess6, False)"
   ]
  },
  {
   "cell_type": "markdown",
   "metadata": {},
   "source": [
    "Ternyata, dikombinasikan dengan penghapusan tanda baca, stemming malah tidak berpengaruh baik ke model klasifikasi. Kita bisa anggap stemming tidak efektif untuk diterapkan di preprocessing klasifikasi ini.\n",
    "\n",
    "#### Stop words removal\n",
    "Akan dicoba dulu untuk melakukan preprocessing dengan stop words removal saja."
   ]
  },
  {
   "cell_type": "code",
   "execution_count": 36,
   "metadata": {},
   "outputs": [],
   "source": [
    "# menghapus stop words\n",
    "\n",
    "from Sastrawi.StopWordRemover.StopWordRemoverFactory import StopWordRemoverFactory\n",
    "sw_remover = StopWordRemoverFactory().create_stop_word_remover()\n",
    "\n",
    "x_train_preprocess7 = []\n",
    "x_test_preprocess7 = []\n",
    "\n",
    "for i in range(len(x_train)):\n",
    "    x_train_preprocess7.append(sw_remover.remove(x_train[i]))\n",
    "    \n",
    "for i in range(len(x_test)):\n",
    "    x_test_preprocess7.append(sw_remover.remove(x_test[i]))"
   ]
  },
  {
   "cell_type": "code",
   "execution_count": 37,
   "metadata": {},
   "outputs": [
    {
     "name": "stdout",
     "output_type": "stream",
     "text": [
      "Evaluasi tanpa preprocessing\n",
      "      metriks    kelas0    kelas1     micro     macro\n",
      "0     akurasi  0.608571  0.608571  0.608571  0.608571\n",
      "1     presisi  0.648148  0.903553  0.608571  0.775851\n",
      "2      recall  0.228758  0.903553  0.608571  0.566156\n",
      "3  F1-measure  0.338164  0.903553  0.608571  0.620859\n",
      "\n",
      "Evaluasi dengan preprocessing stop words removal saja\n",
      "      metriks    kelas0    kelas1     micro     macro\n",
      "0     akurasi  0.645714  0.645714  0.645714  0.645714\n",
      "1     presisi  0.723077  0.908629  0.645714  0.815853\n",
      "2      recall  0.307190  0.908629  0.645714  0.607909\n",
      "3  F1-measure  0.431193  0.908629  0.645714  0.669911\n"
     ]
    }
   ],
   "source": [
    "# pembuatan model\n",
    "model_preprocess7 = training(x_train_preprocess7, y_train, 1000, True)\n",
    "\n",
    "# testing\n",
    "y_predict_preprocess7 = testing(x_test_preprocess7, model_preprocess7)\n",
    "\n",
    "# menampilkan evaluasi tanpa preprocessing untuk perbandingan\n",
    "print('Evaluasi tanpa preprocessing')\n",
    "evaluation(y_test, y_predict_denganSmoothing, False)\n",
    "print()\n",
    "\n",
    "# evaluasi dengan preprocessing\n",
    "print('Evaluasi dengan preprocessing stop words removal saja')\n",
    "evaluation(y_test, y_predict_preprocess7, False)"
   ]
  },
  {
   "cell_type": "markdown",
   "metadata": {},
   "source": [
    "Stop words removal menunjukkan berpengaruh yang baik terhadap performa model klasifikasi. Selanjutnya, akan dicoba dikombinasikan dengan cleansing tanda baca yang sebelumnya sudah terbukti juga menaikkan performa model klasifikasi."
   ]
  },
  {
   "cell_type": "code",
   "execution_count": 38,
   "metadata": {},
   "outputs": [],
   "source": [
    "x_train_preprocess8 = []\n",
    "x_test_preprocess8 = []\n",
    "\n",
    "for i in range(len(x_train)):\n",
    "    x_train_preprocess8.append(sw_remover.remove(x_train_preprocess2[i]))\n",
    "    \n",
    "for i in range(len(x_test)):\n",
    "    x_test_preprocess8.append(sw_remover.remove(x_test_preprocess2[i]))"
   ]
  },
  {
   "cell_type": "code",
   "execution_count": 39,
   "metadata": {},
   "outputs": [
    {
     "name": "stdout",
     "output_type": "stream",
     "text": [
      "Evaluasi tanpa preprocessing\n",
      "      metriks    kelas0    kelas1     micro     macro\n",
      "0     akurasi  0.608571  0.608571  0.608571  0.608571\n",
      "1     presisi  0.648148  0.903553  0.608571  0.775851\n",
      "2      recall  0.228758  0.903553  0.608571  0.566156\n",
      "3  F1-measure  0.338164  0.903553  0.608571  0.620859\n",
      "\n",
      "Evaluasi dengan preprocessing cleansing tanda baca saja\n",
      "      metriks    kelas0    kelas1     micro     macro\n",
      "0     akurasi  0.631429  0.631429  0.631429  0.631429\n",
      "1     presisi  0.684615  0.895939  0.631429  0.790277\n",
      "2      recall  0.290850  0.895939  0.631429  0.593394\n",
      "3  F1-measure  0.408257  0.895939  0.631429  0.652098\n",
      "\n",
      "Evaluasi dengan preprocessing stop words removal saja\n",
      "      metriks    kelas0    kelas1     micro     macro\n",
      "0     akurasi  0.645714  0.645714  0.645714  0.645714\n",
      "1     presisi  0.723077  0.908629  0.645714  0.815853\n",
      "2      recall  0.307190  0.908629  0.645714  0.607909\n",
      "3  F1-measure  0.431193  0.908629  0.645714  0.669911\n",
      "\n",
      "Evaluasi dengan preprocessing cleansing tanda baca dan stop words removal\n",
      "      metriks    kelas0    kelas1     micro     macro\n",
      "0     akurasi  0.641429  0.641429  0.641429  0.641429\n",
      "1     presisi  0.703704  0.898477  0.641429  0.801090\n",
      "2      recall  0.310458  0.898477  0.641429  0.604467\n",
      "3  F1-measure  0.430839  0.898477  0.641429  0.664658\n"
     ]
    }
   ],
   "source": [
    "# pembuatan model\n",
    "model_preprocess8 = training(x_train_preprocess8, y_train, 1000, True)\n",
    "\n",
    "# testing\n",
    "y_predict_preprocess8 = testing(x_test_preprocess8, model_preprocess8)\n",
    "\n",
    "# menampilkan evaluasi tanpa preprocessing untuk perbandingan\n",
    "print('Evaluasi tanpa preprocessing')\n",
    "evaluation(y_test, y_predict_denganSmoothing, False)\n",
    "print()\n",
    "\n",
    "# menampilkan evaluasi dengan preprocessing cleansing tanda baca untuk perbandingan\n",
    "print('Evaluasi dengan preprocessing cleansing tanda baca saja')\n",
    "evaluation(y_test, y_predict_preprocess2, False)\n",
    "print()\n",
    "\n",
    "# menampilkan evaluasi dengan preprocessing untuk perbandingan\n",
    "print('Evaluasi dengan preprocessing stop words removal saja')\n",
    "evaluation(y_test, y_predict_preprocess7, False)\n",
    "print()\n",
    "\n",
    "# evaluasi dengan preprocessing\n",
    "print('Evaluasi dengan preprocessing cleansing tanda baca dan stop words removal')\n",
    "evaluation(y_test, y_predict_preprocess8, False)"
   ]
  },
  {
   "cell_type": "markdown",
   "metadata": {},
   "source": [
    "Mengombinasikan keduanya memang memberikan performa model klasifikasi yang lebih baik daripada hanya melakukan cleansing tanda baca. Namun, dibandingkan dengan preprocessing yang hanya menghilangkan stop words, kombinasi kedua preprocessing ini tidak lebih baik. Dengan begitu, dapat disimpulkan bahwa preprocessing terbaik adalah dengan menghilangkan stop words saja."
   ]
  },
  {
   "cell_type": "markdown",
   "metadata": {},
   "source": [
    "#### Kesimpulan\n",
    "Performa model dapat lebih baik dihasilkan jika data terlebih dahulu melalui proses preprocessing. Di antara beberapa proses preprocessing yang mungkin diterapkan di data teks, proses preprocessing yang paling efektif diterapkan di data dan permasalahan ini adalah stop words removal. Tanpa preprocessing, perfoma model yang dihasilkan adalah sebagai berikut:"
   ]
  },
  {
   "cell_type": "code",
   "execution_count": 40,
   "metadata": {},
   "outputs": [
    {
     "name": "stdout",
     "output_type": "stream",
     "text": [
      "Evaluasi tanpa preprocessing\n",
      "      metriks    kelas0    kelas1     micro     macro\n",
      "0     akurasi  0.608571  0.608571  0.608571  0.608571\n",
      "1     presisi  0.648148  0.903553  0.608571  0.775851\n",
      "2      recall  0.228758  0.903553  0.608571  0.566156\n",
      "3  F1-measure  0.338164  0.903553  0.608571  0.620859\n"
     ]
    }
   ],
   "source": [
    "# evaluasi tanpa preprocessing\n",
    "print('Evaluasi tanpa preprocessing')\n",
    "evaluation(y_test, y_predict_denganSmoothing, False)"
   ]
  },
  {
   "cell_type": "markdown",
   "metadata": {},
   "source": [
    "Sedangkan, dengan stop words removal, dihasilkan performa model sebagai berikut:"
   ]
  },
  {
   "cell_type": "code",
   "execution_count": 41,
   "metadata": {},
   "outputs": [
    {
     "name": "stdout",
     "output_type": "stream",
     "text": [
      "Evaluasi dengan preprocessing stop words removal saja\n",
      "      metriks    kelas0    kelas1     micro     macro\n",
      "0     akurasi  0.645714  0.645714  0.645714  0.645714\n",
      "1     presisi  0.723077  0.908629  0.645714  0.815853\n",
      "2      recall  0.307190  0.908629  0.645714  0.607909\n",
      "3  F1-measure  0.431193  0.908629  0.645714  0.669911\n"
     ]
    }
   ],
   "source": [
    "print('Evaluasi dengan preprocessing stop words removal saja')\n",
    "evaluation(y_test, y_predict_preprocess7, False)"
   ]
  }
 ],
 "metadata": {
  "kernelspec": {
   "display_name": "Python 3",
   "language": "python",
   "name": "python3"
  },
  "language_info": {
   "codemirror_mode": {
    "name": "ipython",
    "version": 3
   },
   "file_extension": ".py",
   "mimetype": "text/x-python",
   "name": "python",
   "nbconvert_exporter": "python",
   "pygments_lexer": "ipython3",
   "version": "3.8.3"
  }
 },
 "nbformat": 4,
 "nbformat_minor": 4
}
